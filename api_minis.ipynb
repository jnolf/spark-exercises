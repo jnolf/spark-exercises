{
 "cells": [
  {
   "cell_type": "markdown",
   "id": "d8d87d82",
   "metadata": {},
   "source": [
    "# <u>Spark API Mini Exercises<u>"
   ]
  },
  {
   "cell_type": "markdown",
   "id": "e6716dbf",
   "metadata": {},
   "source": [
    "### 1. Spark Dataframe Basics\n"
   ]
  },
  {
   "cell_type": "code",
   "execution_count": 2,
   "id": "f36fdd8e",
   "metadata": {},
   "outputs": [
    {
     "name": "stderr",
     "output_type": "stream",
     "text": [
      "WARNING: An illegal reflective access operation has occurred\n",
      "WARNING: Illegal reflective access by org.apache.spark.unsafe.Platform (file:/Users/jerrynolf/opt/anaconda3/lib/python3.9/site-packages/pyspark/jars/spark-unsafe_2.12-3.2.1.jar) to constructor java.nio.DirectByteBuffer(long,int)\n",
      "WARNING: Please consider reporting this to the maintainers of org.apache.spark.unsafe.Platform\n",
      "WARNING: Use --illegal-access=warn to enable warnings of further illegal reflective access operations\n",
      "WARNING: All illegal access operations will be denied in a future release\n",
      "Using Spark's default log4j profile: org/apache/spark/log4j-defaults.properties\n",
      "Setting default log level to \"WARN\".\n",
      "To adjust logging level use sc.setLogLevel(newLevel). For SparkR, use setLogLevel(newLevel).\n",
      "22/05/18 10:01:29 WARN NativeCodeLoader: Unable to load native-hadoop library for your platform... using builtin-java classes where applicable\n"
     ]
    }
   ],
   "source": [
    "import pyspark\n",
    "\n",
    "spark = pyspark.sql.SparkSession.builder.getOrCreate()\n"
   ]
  },
  {
   "cell_type": "markdown",
   "id": "a3ffdf17",
   "metadata": {},
   "source": [
    "A.) Use the starter code above to create a pandas dataframe."
   ]
  },
  {
   "cell_type": "code",
   "execution_count": 1,
   "id": "93a1bfaa",
   "metadata": {},
   "outputs": [],
   "source": [
    "import pandas as pd\n",
    "import numpy as np\n",
    "\n",
    "np.random.seed(13)\n",
    "\n",
    "pandas_dataframe = pd.DataFrame(\n",
    "    {\n",
    "        \"n\": np.random.randn(20),\n",
    "        \"group\": np.random.choice(list(\"xyz\"), 20),\n",
    "        \"abool\": np.random.choice([True, False], 20),\n",
    "    }\n",
    ")"
   ]
  },
  {
   "cell_type": "markdown",
   "id": "18a4cea5",
   "metadata": {},
   "source": [
    "B.) Convert the pandas dataframe to a spark dataframe. From this point forward, do all of your work with the spark dataframe, not the pandas dataframe."
   ]
  },
  {
   "cell_type": "code",
   "execution_count": 4,
   "id": "d479de82",
   "metadata": {},
   "outputs": [
    {
     "data": {
      "text/plain": [
       "DataFrame[n: double, group: string, abool: boolean]"
      ]
     },
     "execution_count": 4,
     "metadata": {},
     "output_type": "execute_result"
    }
   ],
   "source": [
    "df = spark.createDataFrame(pandas_dataframe)\n",
    "df"
   ]
  },
  {
   "cell_type": "markdown",
   "id": "055a941d",
   "metadata": {},
   "source": [
    "C.) Show the first 3 rows of the dataframe."
   ]
  },
  {
   "cell_type": "code",
   "execution_count": 8,
   "id": "f0c51e1a",
   "metadata": {},
   "outputs": [
    {
     "name": "stdout",
     "output_type": "stream",
     "text": [
      "+--------------------+-----+-----+\n",
      "|                   n|group|abool|\n",
      "+--------------------+-----+-----+\n",
      "|  -0.712390662050588|    z|false|\n",
      "|   0.753766378659703|    x|false|\n",
      "|-0.04450307833805...|    z|false|\n",
      "+--------------------+-----+-----+\n",
      "only showing top 3 rows\n",
      "\n"
     ]
    }
   ],
   "source": [
    "df.show(3)"
   ]
  },
  {
   "cell_type": "markdown",
   "id": "f2d3fe2e",
   "metadata": {},
   "source": [
    "D.) Show the first 7 rows of the dataframe."
   ]
  },
  {
   "cell_type": "code",
   "execution_count": 9,
   "id": "fa139b41",
   "metadata": {},
   "outputs": [
    {
     "name": "stdout",
     "output_type": "stream",
     "text": [
      "+--------------------+-----+-----+\n",
      "|                   n|group|abool|\n",
      "+--------------------+-----+-----+\n",
      "|  -0.712390662050588|    z|false|\n",
      "|   0.753766378659703|    x|false|\n",
      "|-0.04450307833805...|    z|false|\n",
      "| 0.45181233874578974|    y|false|\n",
      "|  1.3451017084510097|    z|false|\n",
      "|  0.5323378882945463|    y|false|\n",
      "|  1.3501878997225267|    z|false|\n",
      "+--------------------+-----+-----+\n",
      "only showing top 7 rows\n",
      "\n"
     ]
    }
   ],
   "source": [
    "df.show(7)"
   ]
  },
  {
   "cell_type": "markdown",
   "id": "533f1397",
   "metadata": {},
   "source": [
    "E.) What is the difference between .show and .head?"
   ]
  },
  {
   "cell_type": "code",
   "execution_count": 10,
   "id": "268e262e",
   "metadata": {},
   "outputs": [
    {
     "data": {
      "text/plain": [
       "[Row(n=-0.712390662050588, group='z', abool=False),\n",
       " Row(n=0.753766378659703, group='x', abool=False),\n",
       " Row(n=-0.044503078338053455, group='z', abool=False)]"
      ]
     },
     "execution_count": 10,
     "metadata": {},
     "output_type": "execute_result"
    }
   ],
   "source": [
    "df.head(3)"
   ]
  },
  {
   "cell_type": "markdown",
   "id": "c5463ead",
   "metadata": {},
   "source": [
    "F.) View a summary of the data using .describe."
   ]
  },
  {
   "cell_type": "code",
   "execution_count": 14,
   "id": "77f345ba",
   "metadata": {},
   "outputs": [
    {
     "name": "stdout",
     "output_type": "stream",
     "text": [
      "+-------+------------------+-----+\n",
      "|summary|                 n|group|\n",
      "+-------+------------------+-----+\n",
      "|  count|                20|   20|\n",
      "|   mean|0.3664026449885217| null|\n",
      "| stddev|0.8905322898155363| null|\n",
      "|    min|-1.261605945319069|    x|\n",
      "|    max|2.1503829673811126|    z|\n",
      "+-------+------------------+-----+\n",
      "\n"
     ]
    }
   ],
   "source": [
    "df.describe().show()"
   ]
  },
  {
   "cell_type": "markdown",
   "id": "d41b9ba9",
   "metadata": {},
   "source": [
    "G.) Use .select to create a new dataframe with just the n and abool columns. View the first 5 rows of this dataframe."
   ]
  },
  {
   "cell_type": "code",
   "execution_count": 15,
   "id": "a35c5515",
   "metadata": {},
   "outputs": [
    {
     "name": "stdout",
     "output_type": "stream",
     "text": [
      "+--------------------+-----+\n",
      "|                   n|abool|\n",
      "+--------------------+-----+\n",
      "|  -0.712390662050588|false|\n",
      "|   0.753766378659703|false|\n",
      "|-0.04450307833805...|false|\n",
      "| 0.45181233874578974|false|\n",
      "|  1.3451017084510097|false|\n",
      "+--------------------+-----+\n",
      "only showing top 5 rows\n",
      "\n"
     ]
    }
   ],
   "source": [
    "df.select('n', 'abool').show(5)"
   ]
  },
  {
   "cell_type": "markdown",
   "id": "cc3c8204",
   "metadata": {},
   "source": [
    "H.) Use .select to create a new dataframe with just the group and abool columns. View the first 5 rows of this dataframe."
   ]
  },
  {
   "cell_type": "code",
   "execution_count": 16,
   "id": "045e58bb",
   "metadata": {},
   "outputs": [
    {
     "name": "stdout",
     "output_type": "stream",
     "text": [
      "+-----+-----+\n",
      "|group|abool|\n",
      "+-----+-----+\n",
      "|    z|false|\n",
      "|    x|false|\n",
      "|    z|false|\n",
      "|    y|false|\n",
      "|    z|false|\n",
      "+-----+-----+\n",
      "only showing top 5 rows\n",
      "\n"
     ]
    }
   ],
   "source": [
    "df.select('group', 'abool').show(5)"
   ]
  },
  {
   "cell_type": "markdown",
   "id": "2884adc6",
   "metadata": {},
   "source": [
    "I.) Use .select to create a new dataframe with the group column and the abool column renamed to a_boolean_value. Show the first 3 rows of this dataframe."
   ]
  },
  {
   "cell_type": "code",
   "execution_count": 19,
   "id": "d5e8972f",
   "metadata": {},
   "outputs": [
    {
     "name": "stdout",
     "output_type": "stream",
     "text": [
      "+-----+-----+\n",
      "|group|abool|\n",
      "+-----+-----+\n",
      "|    z|false|\n",
      "|    x|false|\n",
      "|    z|false|\n",
      "+-----+-----+\n",
      "only showing top 3 rows\n",
      "\n"
     ]
    }
   ],
   "source": [
    "df.select('group', 'abool').alias('a_boolean_value').show(3)"
   ]
  },
  {
   "cell_type": "markdown",
   "id": "71f56dd2",
   "metadata": {},
   "source": [
    "J.) Use .select to create a new dataframe with the group column and the n column renamed to a_numeric_value. Show the first 6 rows of this dataframe."
   ]
  },
  {
   "cell_type": "code",
   "execution_count": 20,
   "id": "f9863c26",
   "metadata": {},
   "outputs": [
    {
     "name": "stdout",
     "output_type": "stream",
     "text": [
      "+-----+--------------------+\n",
      "|group|                   n|\n",
      "+-----+--------------------+\n",
      "|    z|  -0.712390662050588|\n",
      "|    x|   0.753766378659703|\n",
      "|    z|-0.04450307833805...|\n",
      "|    y| 0.45181233874578974|\n",
      "|    z|  1.3451017084510097|\n",
      "|    y|  0.5323378882945463|\n",
      "+-----+--------------------+\n",
      "only showing top 6 rows\n",
      "\n"
     ]
    }
   ],
   "source": [
    "df.select('group', 'n').alias('a_numeric_value').show(6)"
   ]
  },
  {
   "cell_type": "markdown",
   "id": "cbfad344",
   "metadata": {},
   "source": [
    "### 2. Column Manipulation\n"
   ]
  },
  {
   "cell_type": "markdown",
   "id": "d74910db",
   "metadata": {},
   "source": [
    "A.) Use the starter code above to re-create a spark dataframe. Store the spark dataframe in a varaible named df"
   ]
  },
  {
   "cell_type": "code",
   "execution_count": 41,
   "id": "6954b4fe",
   "metadata": {},
   "outputs": [
    {
     "name": "stdout",
     "output_type": "stream",
     "text": [
      "+-------------------+-----+-----+\n",
      "|                  n|group|abool|\n",
      "+-------------------+-----+-----+\n",
      "|-1.0856306033005612|    y|false|\n",
      "| 0.9973454465835858|    x| true|\n",
      "|0.28297849805199204|    x| true|\n",
      "+-------------------+-----+-----+\n",
      "only showing top 3 rows\n",
      "\n"
     ]
    }
   ],
   "source": [
    "np.random.seed(123)\n",
    "\n",
    "pandas_dataframe = pd.DataFrame(\n",
    "    {\n",
    "        \"n\": np.random.randn(20),\n",
    "        \"group\": np.random.choice(list(\"xyz\"), 20),\n",
    "        \"abool\": np.random.choice([True, False], 20),\n",
    "    }\n",
    ")\n",
    "\n",
    "df = spark.createDataFrame(pandas_dataframe)\n",
    "df.show(3)"
   ]
  },
  {
   "cell_type": "markdown",
   "id": "8fb98730",
   "metadata": {},
   "source": [
    "B.) Use .select to add 4 to the n column. Show the results."
   ]
  },
  {
   "cell_type": "code",
   "execution_count": 42,
   "id": "1238b92c",
   "metadata": {},
   "outputs": [
    {
     "name": "stdout",
     "output_type": "stream",
     "text": [
      "+------------------+\n",
      "|           (n + 4)|\n",
      "+------------------+\n",
      "| 2.914369396699439|\n",
      "| 4.997345446583585|\n",
      "|4.2829784980519925|\n",
      "+------------------+\n",
      "only showing top 3 rows\n",
      "\n"
     ]
    }
   ],
   "source": [
    "df.select(df.n+4).show(3)"
   ]
  },
  {
   "cell_type": "markdown",
   "id": "57d813a0",
   "metadata": {},
   "source": [
    "C.) Subtract 5 from the n column and view the results."
   ]
  },
  {
   "cell_type": "code",
   "execution_count": 43,
   "id": "50b7e7b2",
   "metadata": {},
   "outputs": [
    {
     "name": "stdout",
     "output_type": "stream",
     "text": [
      "+-------------------+\n",
      "|            (n - 5)|\n",
      "+-------------------+\n",
      "| -6.085630603300562|\n",
      "| -4.002654553416415|\n",
      "|-4.7170215019480075|\n",
      "| -6.506294713918092|\n",
      "|-5.5786002519685365|\n",
      "+-------------------+\n",
      "only showing top 5 rows\n",
      "\n"
     ]
    }
   ],
   "source": [
    "df.select(df.n-5).show(5)"
   ]
  },
  {
   "cell_type": "markdown",
   "id": "4b8d2c87",
   "metadata": {},
   "source": [
    "D.) Multiply the n column by 2. View the results along with the original numbers."
   ]
  },
  {
   "cell_type": "code",
   "execution_count": 44,
   "id": "e3bf472e",
   "metadata": {},
   "outputs": [
    {
     "name": "stdout",
     "output_type": "stream",
     "text": [
      "+-------------------+\n",
      "|            (n * 2)|\n",
      "+-------------------+\n",
      "|-2.1712612066011223|\n",
      "| 1.9946908931671716|\n",
      "| 0.5659569961039841|\n",
      "| -3.012589427836184|\n",
      "|-1.1572005039370727|\n",
      "+-------------------+\n",
      "only showing top 5 rows\n",
      "\n"
     ]
    }
   ],
   "source": [
    "df.select(df.n*2).show(5)"
   ]
  },
  {
   "cell_type": "markdown",
   "id": "791cc0ec",
   "metadata": {},
   "source": [
    "E.) Add a new column named n2 that is the n value multiplied by -1. Show the first 4 rows of your dataframe. You should see the original n value as well as n2."
   ]
  },
  {
   "cell_type": "code",
   "execution_count": 45,
   "id": "f4aac3cb",
   "metadata": {},
   "outputs": [
    {
     "name": "stdout",
     "output_type": "stream",
     "text": [
      "+-------------------+--------------------+\n",
      "|                  n|                  n2|\n",
      "+-------------------+--------------------+\n",
      "|-1.0856306033005612|  1.0856306033005612|\n",
      "| 0.9973454465835858| -0.9973454465835858|\n",
      "|0.28297849805199204|-0.28297849805199204|\n",
      "| -1.506294713918092|   1.506294713918092|\n",
      "+-------------------+--------------------+\n",
      "only showing top 4 rows\n",
      "\n"
     ]
    }
   ],
   "source": [
    "df.select('n',(df.n*-1).alias('n2')).show(4)"
   ]
  },
  {
   "cell_type": "markdown",
   "id": "40c12feb",
   "metadata": {},
   "source": [
    "F.) Add a new column named n3 that is the n value squared. Show the first 5 rows of your dataframe. You should see both n, n2, and n3."
   ]
  },
  {
   "cell_type": "code",
   "execution_count": 46,
   "id": "7b866f38",
   "metadata": {},
   "outputs": [
    {
     "name": "stdout",
     "output_type": "stream",
     "text": [
      "+-------------------+--------------------+-------------------+\n",
      "|                  n|                  n2|                 n3|\n",
      "+-------------------+--------------------+-------------------+\n",
      "|-1.0856306033005612|  1.0856306033005612| 1.1785938068227404|\n",
      "| 0.9973454465835858| -0.9973454465835858| 0.9946979398210122|\n",
      "|0.28297849805199204|-0.28297849805199204|0.08007683035976126|\n",
      "| -1.506294713918092|   1.506294713918092| 2.2689237651775866|\n",
      "|-0.5786002519685364|  0.5786002519685364| 0.3347782515780538|\n",
      "+-------------------+--------------------+-------------------+\n",
      "only showing top 5 rows\n",
      "\n"
     ]
    }
   ],
   "source": [
    "n2 = (df.n*-1).alias('n2')\n",
    "n3 = (df.n**2).alias('n3')\n",
    "\n",
    "df.selectExpr('n', 'n*-1 as n2', 'n*n as n3').show(5)"
   ]
  },
  {
   "cell_type": "markdown",
   "id": "54367232",
   "metadata": {},
   "source": [
    "G.) What happens when you run the code below?\n",
    "\n",
    "        df.group + df.abool"
   ]
  },
  {
   "cell_type": "code",
   "execution_count": 47,
   "id": "5557676a",
   "metadata": {},
   "outputs": [
    {
     "data": {
      "text/plain": [
       "Column<'(group + abool)'>"
      ]
     },
     "execution_count": 47,
     "metadata": {},
     "output_type": "execute_result"
    }
   ],
   "source": [
    "df.group + df.abool"
   ]
  },
  {
   "cell_type": "markdown",
   "id": "453e96c2",
   "metadata": {},
   "source": [
    "H.) What happens when you run the code below? What is the difference between this and the previous code sample?\n",
    "\n",
    "        df.select(df.group + df.abool)"
   ]
  },
  {
   "cell_type": "code",
   "execution_count": 48,
   "id": "b6d531c7",
   "metadata": {},
   "outputs": [],
   "source": [
    "# df.select(df.group + df.abool)\n",
    "# Throws an error (Double added to a Bool)"
   ]
  },
  {
   "cell_type": "markdown",
   "id": "5df29c77",
   "metadata": {},
   "source": [
    "I.) Try adding various other columns together. What are the results of combining the different data types?"
   ]
  },
  {
   "cell_type": "code",
   "execution_count": null,
   "id": "73f63327",
   "metadata": {},
   "outputs": [],
   "source": []
  },
  {
   "cell_type": "markdown",
   "id": "ab5f6b47",
   "metadata": {},
   "source": [
    "###  3. Type casting"
   ]
  },
  {
   "cell_type": "markdown",
   "id": "3beb78f6",
   "metadata": {},
   "source": [
    "A.) Use the starter code above to re-create a spark dataframe."
   ]
  },
  {
   "cell_type": "code",
   "execution_count": 49,
   "id": "35591af2",
   "metadata": {},
   "outputs": [
    {
     "name": "stdout",
     "output_type": "stream",
     "text": [
      "+--------------------+-----+-----+\n",
      "|                   n|group|abool|\n",
      "+--------------------+-----+-----+\n",
      "|-0.41475721425159034|    x|false|\n",
      "| -0.3333686686674932|    z|false|\n",
      "| 0.08109198556483053|    y| true|\n",
      "+--------------------+-----+-----+\n",
      "only showing top 3 rows\n",
      "\n"
     ]
    }
   ],
   "source": [
    "np.random.seed(31)\n",
    "\n",
    "pandas_dataframe = pd.DataFrame(\n",
    "    {\n",
    "        \"n\": np.random.randn(20),\n",
    "        \"group\": np.random.choice(list(\"xyz\"), 20),\n",
    "        \"abool\": np.random.choice([True, False], 20),\n",
    "    }\n",
    ")\n",
    "\n",
    "df = spark.createDataFrame(pandas_dataframe)\n",
    "df.show(3)"
   ]
  },
  {
   "cell_type": "markdown",
   "id": "68fa61ad",
   "metadata": {},
   "source": [
    "B.) Use .printSchema to view the datatypes in your dataframe."
   ]
  },
  {
   "cell_type": "code",
   "execution_count": 50,
   "id": "65e5fe9d",
   "metadata": {},
   "outputs": [
    {
     "name": "stdout",
     "output_type": "stream",
     "text": [
      "root\n",
      " |-- n: double (nullable = true)\n",
      " |-- group: string (nullable = true)\n",
      " |-- abool: boolean (nullable = true)\n",
      "\n"
     ]
    }
   ],
   "source": [
    "df.printSchema()"
   ]
  },
  {
   "cell_type": "markdown",
   "id": "f8879576",
   "metadata": {},
   "source": [
    "C.) Use .dtypes to view the datatypes in your dataframe."
   ]
  },
  {
   "cell_type": "code",
   "execution_count": 54,
   "id": "83189a0f",
   "metadata": {},
   "outputs": [
    {
     "data": {
      "text/plain": [
       "[('n', 'double'), ('group', 'string'), ('abool', 'boolean')]"
      ]
     },
     "execution_count": 54,
     "metadata": {},
     "output_type": "execute_result"
    }
   ],
   "source": [
    "df.dtypes"
   ]
  },
  {
   "cell_type": "markdown",
   "id": "e6e4a5bd",
   "metadata": {},
   "source": [
    "D.) What is the difference between the two code samples below?\n",
    "\n",
    "        df.abool.cast('int')\n",
    "        df.select(df.abool.cast('int')).show()"
   ]
  },
  {
   "cell_type": "code",
   "execution_count": 62,
   "id": "43cc32c2",
   "metadata": {},
   "outputs": [
    {
     "data": {
      "text/plain": [
       "Column<'CAST(abool AS INT)'>"
      ]
     },
     "execution_count": 62,
     "metadata": {},
     "output_type": "execute_result"
    }
   ],
   "source": [
    "df.abool.cast('int')\n",
    "\n",
    "# Converts bools to 0 or 1"
   ]
  },
  {
   "cell_type": "code",
   "execution_count": 63,
   "id": "571482e1",
   "metadata": {},
   "outputs": [
    {
     "name": "stdout",
     "output_type": "stream",
     "text": [
      "+-----+\n",
      "|abool|\n",
      "+-----+\n",
      "|    0|\n",
      "|    0|\n",
      "|    1|\n",
      "|    0|\n",
      "|    0|\n",
      "+-----+\n",
      "only showing top 5 rows\n",
      "\n"
     ]
    }
   ],
   "source": [
    "df.select(df.abool.cast('int')).show(5)\n",
    "\n",
    "# Outputs the 0's and 1's as a list"
   ]
  },
  {
   "cell_type": "markdown",
   "id": "4fb5a94e",
   "metadata": {},
   "source": [
    "E.) Use .select and .cast to convert the abool column to an integer type. View the results."
   ]
  },
  {
   "cell_type": "code",
   "execution_count": 70,
   "id": "168b0932",
   "metadata": {},
   "outputs": [
    {
     "name": "stdout",
     "output_type": "stream",
     "text": [
      "+-----+\n",
      "|abool|\n",
      "+-----+\n",
      "|    0|\n",
      "|    0|\n",
      "|    1|\n",
      "|    0|\n",
      "|    0|\n",
      "+-----+\n",
      "only showing top 5 rows\n",
      "\n"
     ]
    }
   ],
   "source": [
    "\n",
    "df.select(df.abool.cast('int')).show(5)"
   ]
  },
  {
   "cell_type": "markdown",
   "id": "4e17b7b7",
   "metadata": {},
   "source": [
    "F.) Convert the group column to a integer data type and view the results. What happens?"
   ]
  },
  {
   "cell_type": "code",
   "execution_count": 68,
   "id": "b1df188b",
   "metadata": {},
   "outputs": [
    {
     "ename": "TypeError",
     "evalue": "'Column' object is not callable",
     "output_type": "error",
     "traceback": [
      "\u001b[0;31m---------------------------------------------------------------------------\u001b[0m",
      "\u001b[0;31mTypeError\u001b[0m                                 Traceback (most recent call last)",
      "\u001b[0;32m/var/folders/x6/9q2vjsz90nx_0lgx5gr8g33w0000gn/T/ipykernel_15566/770382639.py\u001b[0m in \u001b[0;36m<module>\u001b[0;34m\u001b[0m\n\u001b[0;32m----> 1\u001b[0;31m \u001b[0mdf\u001b[0m\u001b[0;34m.\u001b[0m\u001b[0mgroup\u001b[0m\u001b[0;34m.\u001b[0m\u001b[0mcast\u001b[0m\u001b[0;34m(\u001b[0m\u001b[0;34m'int'\u001b[0m\u001b[0;34m)\u001b[0m\u001b[0;34m.\u001b[0m\u001b[0mshow\u001b[0m\u001b[0;34m(\u001b[0m\u001b[0;36m5\u001b[0m\u001b[0;34m)\u001b[0m\u001b[0;34m\u001b[0m\u001b[0;34m\u001b[0m\u001b[0m\n\u001b[0m",
      "\u001b[0;31mTypeError\u001b[0m: 'Column' object is not callable"
     ]
    }
   ],
   "source": [
    "df.group.cast('int').show(5)"
   ]
  },
  {
   "cell_type": "markdown",
   "id": "2a5c85a8",
   "metadata": {},
   "source": [
    "G.) Convert the n column to a integer data type and view the results. What happens?"
   ]
  },
  {
   "cell_type": "code",
   "execution_count": null,
   "id": "c4061ff7",
   "metadata": {},
   "outputs": [],
   "source": []
  },
  {
   "cell_type": "markdown",
   "id": "cf3a05cd",
   "metadata": {},
   "source": [
    "H.) Convert the abool column to a string data type and view the results. What happens?"
   ]
  },
  {
   "cell_type": "code",
   "execution_count": null,
   "id": "9bf2e36c",
   "metadata": {},
   "outputs": [],
   "source": []
  },
  {
   "cell_type": "markdown",
   "id": "3526b0bb",
   "metadata": {},
   "source": [
    "### 4.) Built-in Functions"
   ]
  },
  {
   "cell_type": "code",
   "execution_count": null,
   "id": "1cd4afe5",
   "metadata": {},
   "outputs": [],
   "source": []
  },
  {
   "cell_type": "markdown",
   "id": "ae3e5cca",
   "metadata": {},
   "source": [
    "### 5.) When / Otherwise"
   ]
  },
  {
   "cell_type": "code",
   "execution_count": null,
   "id": "904fe621",
   "metadata": {},
   "outputs": [],
   "source": []
  }
 ],
 "metadata": {
  "kernelspec": {
   "display_name": "Python 3 (ipykernel)",
   "language": "python",
   "name": "python3"
  },
  "language_info": {
   "codemirror_mode": {
    "name": "ipython",
    "version": 3
   },
   "file_extension": ".py",
   "mimetype": "text/x-python",
   "name": "python",
   "nbconvert_exporter": "python",
   "pygments_lexer": "ipython3",
   "version": "3.9.7"
  }
 },
 "nbformat": 4,
 "nbformat_minor": 5
}
