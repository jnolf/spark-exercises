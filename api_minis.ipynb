{
 "cells": [
  {
   "cell_type": "markdown",
   "id": "c1803b9f",
   "metadata": {},
   "source": [
    "# <u>Spark API Mini Exercises<u>"
   ]
  },
  {
   "cell_type": "markdown",
   "id": "adbb4a1e",
   "metadata": {},
   "source": [
    "### 1. Spark Dataframe Basics\n"
   ]
  },
  {
   "cell_type": "code",
   "execution_count": 2,
   "id": "7a1a234b",
   "metadata": {},
   "outputs": [
    {
     "name": "stderr",
     "output_type": "stream",
     "text": [
      "WARNING: An illegal reflective access operation has occurred\n",
      "WARNING: Illegal reflective access by org.apache.spark.unsafe.Platform (file:/Users/jerrynolf/opt/anaconda3/lib/python3.9/site-packages/pyspark/jars/spark-unsafe_2.12-3.2.1.jar) to constructor java.nio.DirectByteBuffer(long,int)\n",
      "WARNING: Please consider reporting this to the maintainers of org.apache.spark.unsafe.Platform\n",
      "WARNING: Use --illegal-access=warn to enable warnings of further illegal reflective access operations\n",
      "WARNING: All illegal access operations will be denied in a future release\n",
      "Using Spark's default log4j profile: org/apache/spark/log4j-defaults.properties\n",
      "Setting default log level to \"WARN\".\n",
      "To adjust logging level use sc.setLogLevel(newLevel). For SparkR, use setLogLevel(newLevel).\n",
      "22/05/18 10:01:29 WARN NativeCodeLoader: Unable to load native-hadoop library for your platform... using builtin-java classes where applicable\n"
     ]
    }
   ],
   "source": [
    "import pyspark\n",
    "\n",
    "spark = pyspark.sql.SparkSession.builder.getOrCreate()\n"
   ]
  },
  {
   "cell_type": "markdown",
   "id": "8d52f8ca",
   "metadata": {},
   "source": [
    "A.) Use the starter code above to create a pandas dataframe."
   ]
  },
  {
   "cell_type": "code",
   "execution_count": 1,
   "id": "c854260a",
   "metadata": {},
   "outputs": [],
   "source": [
    "import pandas as pd\n",
    "import numpy as np\n",
    "\n",
    "np.random.seed(13)\n",
    "\n",
    "pandas_dataframe = pd.DataFrame(\n",
    "    {\n",
    "        \"n\": np.random.randn(20),\n",
    "        \"group\": np.random.choice(list(\"xyz\"), 20),\n",
    "        \"abool\": np.random.choice([True, False], 20),\n",
    "    }\n",
    ")"
   ]
  },
  {
   "cell_type": "markdown",
   "id": "04f7a4d2",
   "metadata": {},
   "source": [
    "B.) Convert the pandas dataframe to a spark dataframe. From this point forward, do all of your work with the spark dataframe, not the pandas dataframe."
   ]
  },
  {
   "cell_type": "code",
   "execution_count": 4,
   "id": "84b73686",
   "metadata": {},
   "outputs": [
    {
     "data": {
      "text/plain": [
       "DataFrame[n: double, group: string, abool: boolean]"
      ]
     },
     "execution_count": 4,
     "metadata": {},
     "output_type": "execute_result"
    }
   ],
   "source": [
    "df = spark.createDataFrame(pandas_dataframe)\n",
    "df"
   ]
  },
  {
   "cell_type": "markdown",
   "id": "cda5f379",
   "metadata": {},
   "source": [
    "C.) Show the first 3 rows of the dataframe."
   ]
  },
  {
   "cell_type": "code",
   "execution_count": 8,
   "id": "aaec95e7",
   "metadata": {},
   "outputs": [
    {
     "name": "stdout",
     "output_type": "stream",
     "text": [
      "+--------------------+-----+-----+\n",
      "|                   n|group|abool|\n",
      "+--------------------+-----+-----+\n",
      "|  -0.712390662050588|    z|false|\n",
      "|   0.753766378659703|    x|false|\n",
      "|-0.04450307833805...|    z|false|\n",
      "+--------------------+-----+-----+\n",
      "only showing top 3 rows\n",
      "\n"
     ]
    }
   ],
   "source": [
    "df.show(3)"
   ]
  },
  {
   "cell_type": "markdown",
   "id": "4f5fd99b",
   "metadata": {},
   "source": [
    "D.) Show the first 7 rows of the dataframe."
   ]
  },
  {
   "cell_type": "code",
   "execution_count": 9,
   "id": "43a35451",
   "metadata": {},
   "outputs": [
    {
     "name": "stdout",
     "output_type": "stream",
     "text": [
      "+--------------------+-----+-----+\n",
      "|                   n|group|abool|\n",
      "+--------------------+-----+-----+\n",
      "|  -0.712390662050588|    z|false|\n",
      "|   0.753766378659703|    x|false|\n",
      "|-0.04450307833805...|    z|false|\n",
      "| 0.45181233874578974|    y|false|\n",
      "|  1.3451017084510097|    z|false|\n",
      "|  0.5323378882945463|    y|false|\n",
      "|  1.3501878997225267|    z|false|\n",
      "+--------------------+-----+-----+\n",
      "only showing top 7 rows\n",
      "\n"
     ]
    }
   ],
   "source": [
    "df.show(7)"
   ]
  },
  {
   "cell_type": "markdown",
   "id": "c9b49251",
   "metadata": {},
   "source": [
    "E.) What is the difference between .show and .head?"
   ]
  },
  {
   "cell_type": "code",
   "execution_count": 10,
   "id": "55bd166b",
   "metadata": {},
   "outputs": [
    {
     "data": {
      "text/plain": [
       "[Row(n=-0.712390662050588, group='z', abool=False),\n",
       " Row(n=0.753766378659703, group='x', abool=False),\n",
       " Row(n=-0.044503078338053455, group='z', abool=False)]"
      ]
     },
     "execution_count": 10,
     "metadata": {},
     "output_type": "execute_result"
    }
   ],
   "source": [
    "df.head(3)"
   ]
  },
  {
   "cell_type": "markdown",
   "id": "8d00bad2",
   "metadata": {},
   "source": [
    "F.) View a summary of the data using .describe."
   ]
  },
  {
   "cell_type": "code",
   "execution_count": 14,
   "id": "8155c3a8",
   "metadata": {},
   "outputs": [
    {
     "name": "stdout",
     "output_type": "stream",
     "text": [
      "+-------+------------------+-----+\n",
      "|summary|                 n|group|\n",
      "+-------+------------------+-----+\n",
      "|  count|                20|   20|\n",
      "|   mean|0.3664026449885217| null|\n",
      "| stddev|0.8905322898155363| null|\n",
      "|    min|-1.261605945319069|    x|\n",
      "|    max|2.1503829673811126|    z|\n",
      "+-------+------------------+-----+\n",
      "\n"
     ]
    }
   ],
   "source": [
    "df.describe().show()"
   ]
  },
  {
   "cell_type": "markdown",
   "id": "0a152e08",
   "metadata": {},
   "source": [
    "G.) Use .select to create a new dataframe with just the n and abool columns. View the first 5 rows of this dataframe."
   ]
  },
  {
   "cell_type": "code",
   "execution_count": 15,
   "id": "eb405faa",
   "metadata": {},
   "outputs": [
    {
     "name": "stdout",
     "output_type": "stream",
     "text": [
      "+--------------------+-----+\n",
      "|                   n|abool|\n",
      "+--------------------+-----+\n",
      "|  -0.712390662050588|false|\n",
      "|   0.753766378659703|false|\n",
      "|-0.04450307833805...|false|\n",
      "| 0.45181233874578974|false|\n",
      "|  1.3451017084510097|false|\n",
      "+--------------------+-----+\n",
      "only showing top 5 rows\n",
      "\n"
     ]
    }
   ],
   "source": [
    "df.select('n', 'abool').show(5)"
   ]
  },
  {
   "cell_type": "markdown",
   "id": "74fd8ceb",
   "metadata": {},
   "source": [
    "H.) Use .select to create a new dataframe with just the group and abool columns. View the first 5 rows of this dataframe."
   ]
  },
  {
   "cell_type": "code",
   "execution_count": 16,
   "id": "97d5d4d6",
   "metadata": {},
   "outputs": [
    {
     "name": "stdout",
     "output_type": "stream",
     "text": [
      "+-----+-----+\n",
      "|group|abool|\n",
      "+-----+-----+\n",
      "|    z|false|\n",
      "|    x|false|\n",
      "|    z|false|\n",
      "|    y|false|\n",
      "|    z|false|\n",
      "+-----+-----+\n",
      "only showing top 5 rows\n",
      "\n"
     ]
    }
   ],
   "source": [
    "df.select('group', 'abool').show(5)"
   ]
  },
  {
   "cell_type": "markdown",
   "id": "c7e75c0a",
   "metadata": {},
   "source": [
    "I.) Use .select to create a new dataframe with the group column and the abool column renamed to a_boolean_value. Show the first 3 rows of this dataframe."
   ]
  },
  {
   "cell_type": "code",
   "execution_count": 19,
   "id": "85e6c244",
   "metadata": {},
   "outputs": [
    {
     "name": "stdout",
     "output_type": "stream",
     "text": [
      "+-----+-----+\n",
      "|group|abool|\n",
      "+-----+-----+\n",
      "|    z|false|\n",
      "|    x|false|\n",
      "|    z|false|\n",
      "+-----+-----+\n",
      "only showing top 3 rows\n",
      "\n"
     ]
    }
   ],
   "source": [
    "df.select('group', 'abool').alias('a_boolean_value').show(3)"
   ]
  },
  {
   "cell_type": "markdown",
   "id": "402233b3",
   "metadata": {},
   "source": [
    "J.) Use .select to create a new dataframe with the group column and the n column renamed to a_numeric_value. Show the first 6 rows of this dataframe."
   ]
  },
  {
   "cell_type": "code",
   "execution_count": 20,
   "id": "41f4a5ca",
   "metadata": {},
   "outputs": [
    {
     "name": "stdout",
     "output_type": "stream",
     "text": [
      "+-----+--------------------+\n",
      "|group|                   n|\n",
      "+-----+--------------------+\n",
      "|    z|  -0.712390662050588|\n",
      "|    x|   0.753766378659703|\n",
      "|    z|-0.04450307833805...|\n",
      "|    y| 0.45181233874578974|\n",
      "|    z|  1.3451017084510097|\n",
      "|    y|  0.5323378882945463|\n",
      "+-----+--------------------+\n",
      "only showing top 6 rows\n",
      "\n"
     ]
    }
   ],
   "source": [
    "df.select('group', 'n').alias('a_numeric_value').show(6)"
   ]
  },
  {
   "cell_type": "markdown",
   "id": "d92b2c9f",
   "metadata": {},
   "source": [
    "### 2. Column Manipulation\n"
   ]
  },
  {
   "cell_type": "markdown",
   "id": "d3ac58e8",
   "metadata": {},
   "source": [
    "A.) Use the starter code above to re-create a spark dataframe. Store the spark dataframe in a varaible named df"
   ]
  },
  {
   "cell_type": "code",
   "execution_count": 41,
   "id": "e6654b24",
   "metadata": {},
   "outputs": [
    {
     "name": "stdout",
     "output_type": "stream",
     "text": [
      "+-------------------+-----+-----+\n",
      "|                  n|group|abool|\n",
      "+-------------------+-----+-----+\n",
      "|-1.0856306033005612|    y|false|\n",
      "| 0.9973454465835858|    x| true|\n",
      "|0.28297849805199204|    x| true|\n",
      "+-------------------+-----+-----+\n",
      "only showing top 3 rows\n",
      "\n"
     ]
    }
   ],
   "source": [
    "np.random.seed(123)\n",
    "\n",
    "pandas_dataframe = pd.DataFrame(\n",
    "    {\n",
    "        \"n\": np.random.randn(20),\n",
    "        \"group\": np.random.choice(list(\"xyz\"), 20),\n",
    "        \"abool\": np.random.choice([True, False], 20),\n",
    "    }\n",
    ")\n",
    "\n",
    "df = spark.createDataFrame(pandas_dataframe)\n",
    "df.show(3)"
   ]
  },
  {
   "cell_type": "markdown",
   "id": "40c33757",
   "metadata": {},
   "source": [
    "B.) Use .select to add 4 to the n column. Show the results."
   ]
  },
  {
   "cell_type": "code",
   "execution_count": 42,
   "id": "bbf5a215",
   "metadata": {},
   "outputs": [
    {
     "name": "stdout",
     "output_type": "stream",
     "text": [
      "+------------------+\n",
      "|           (n + 4)|\n",
      "+------------------+\n",
      "| 2.914369396699439|\n",
      "| 4.997345446583585|\n",
      "|4.2829784980519925|\n",
      "+------------------+\n",
      "only showing top 3 rows\n",
      "\n"
     ]
    }
   ],
   "source": [
    "df.select(df.n+4).show(3)"
   ]
  },
  {
   "cell_type": "markdown",
   "id": "8f10f92d",
   "metadata": {},
   "source": [
    "C.) Subtract 5 from the n column and view the results."
   ]
  },
  {
   "cell_type": "code",
   "execution_count": 43,
   "id": "fedd2103",
   "metadata": {},
   "outputs": [
    {
     "name": "stdout",
     "output_type": "stream",
     "text": [
      "+-------------------+\n",
      "|            (n - 5)|\n",
      "+-------------------+\n",
      "| -6.085630603300562|\n",
      "| -4.002654553416415|\n",
      "|-4.7170215019480075|\n",
      "| -6.506294713918092|\n",
      "|-5.5786002519685365|\n",
      "+-------------------+\n",
      "only showing top 5 rows\n",
      "\n"
     ]
    }
   ],
   "source": [
    "df.select(df.n-5).show(5)"
   ]
  },
  {
   "cell_type": "markdown",
   "id": "e247a9da",
   "metadata": {},
   "source": [
    "D.) Multiply the n column by 2. View the results along with the original numbers."
   ]
  },
  {
   "cell_type": "code",
   "execution_count": 44,
   "id": "bfc89893",
   "metadata": {},
   "outputs": [
    {
     "name": "stdout",
     "output_type": "stream",
     "text": [
      "+-------------------+\n",
      "|            (n * 2)|\n",
      "+-------------------+\n",
      "|-2.1712612066011223|\n",
      "| 1.9946908931671716|\n",
      "| 0.5659569961039841|\n",
      "| -3.012589427836184|\n",
      "|-1.1572005039370727|\n",
      "+-------------------+\n",
      "only showing top 5 rows\n",
      "\n"
     ]
    }
   ],
   "source": [
    "df.select(df.n*2).show(5)"
   ]
  },
  {
   "cell_type": "markdown",
   "id": "17a73e58",
   "metadata": {},
   "source": [
    "E.) Add a new column named n2 that is the n value multiplied by -1. Show the first 4 rows of your dataframe. You should see the original n value as well as n2."
   ]
  },
  {
   "cell_type": "code",
   "execution_count": 45,
   "id": "721404cf",
   "metadata": {},
   "outputs": [
    {
     "name": "stdout",
     "output_type": "stream",
     "text": [
      "+-------------------+--------------------+\n",
      "|                  n|                  n2|\n",
      "+-------------------+--------------------+\n",
      "|-1.0856306033005612|  1.0856306033005612|\n",
      "| 0.9973454465835858| -0.9973454465835858|\n",
      "|0.28297849805199204|-0.28297849805199204|\n",
      "| -1.506294713918092|   1.506294713918092|\n",
      "+-------------------+--------------------+\n",
      "only showing top 4 rows\n",
      "\n"
     ]
    }
   ],
   "source": [
    "df.select('n',(df.n*-1).alias('n2')).show(4)"
   ]
  },
  {
   "cell_type": "markdown",
   "id": "09fc7a00",
   "metadata": {},
   "source": [
    "F.) Add a new column named n3 that is the n value squared. Show the first 5 rows of your dataframe. You should see both n, n2, and n3."
   ]
  },
  {
   "cell_type": "code",
   "execution_count": 46,
   "id": "d1a3145e",
   "metadata": {},
   "outputs": [
    {
     "name": "stdout",
     "output_type": "stream",
     "text": [
      "+-------------------+--------------------+-------------------+\n",
      "|                  n|                  n2|                 n3|\n",
      "+-------------------+--------------------+-------------------+\n",
      "|-1.0856306033005612|  1.0856306033005612| 1.1785938068227404|\n",
      "| 0.9973454465835858| -0.9973454465835858| 0.9946979398210122|\n",
      "|0.28297849805199204|-0.28297849805199204|0.08007683035976126|\n",
      "| -1.506294713918092|   1.506294713918092| 2.2689237651775866|\n",
      "|-0.5786002519685364|  0.5786002519685364| 0.3347782515780538|\n",
      "+-------------------+--------------------+-------------------+\n",
      "only showing top 5 rows\n",
      "\n"
     ]
    }
   ],
   "source": [
    "n2 = (df.n*-1).alias('n2')\n",
    "n3 = (df.n**2).alias('n3')\n",
    "\n",
    "df.selectExpr('n', 'n*-1 as n2', 'n*n as n3').show(5)"
   ]
  },
  {
   "cell_type": "markdown",
   "id": "5f6c2125",
   "metadata": {},
   "source": [
    "G.) What happens when you run the code below?\n",
    "\n",
    "        df.group + df.abool"
   ]
  },
  {
   "cell_type": "code",
   "execution_count": 47,
   "id": "2f71f8c9",
   "metadata": {},
   "outputs": [
    {
     "data": {
      "text/plain": [
       "Column<'(group + abool)'>"
      ]
     },
     "execution_count": 47,
     "metadata": {},
     "output_type": "execute_result"
    }
   ],
   "source": [
    "df.group + df.abool"
   ]
  },
  {
   "cell_type": "markdown",
   "id": "f56fbf3b",
   "metadata": {},
   "source": [
    "H.) What happens when you run the code below? What is the difference between this and the previous code sample?\n",
    "\n",
    "        df.select(df.group + df.abool)"
   ]
  },
  {
   "cell_type": "code",
   "execution_count": 48,
   "id": "7a3ce56c",
   "metadata": {},
   "outputs": [],
   "source": [
    "# df.select(df.group + df.abool)\n",
    "# Throws an error (Double added to a Bool)"
   ]
  },
  {
   "cell_type": "markdown",
   "id": "3bc1ede0",
   "metadata": {},
   "source": [
    "I.) Try adding various other columns together. What are the results of combining the different data types?"
   ]
  },
  {
   "cell_type": "code",
   "execution_count": null,
   "id": "b2cc3363",
   "metadata": {},
   "outputs": [],
   "source": []
  },
  {
   "cell_type": "markdown",
   "id": "ab665822",
   "metadata": {},
   "source": [
    "###  3. Type casting"
   ]
  },
  {
   "cell_type": "markdown",
   "id": "da911591",
   "metadata": {},
   "source": [
    "A.) Use the starter code above to re-create a spark dataframe."
   ]
  },
  {
   "cell_type": "code",
   "execution_count": 49,
   "id": "61944c3b",
   "metadata": {},
   "outputs": [
    {
     "name": "stdout",
     "output_type": "stream",
     "text": [
      "+--------------------+-----+-----+\n",
      "|                   n|group|abool|\n",
      "+--------------------+-----+-----+\n",
      "|-0.41475721425159034|    x|false|\n",
      "| -0.3333686686674932|    z|false|\n",
      "| 0.08109198556483053|    y| true|\n",
      "+--------------------+-----+-----+\n",
      "only showing top 3 rows\n",
      "\n"
     ]
    }
   ],
   "source": [
    "np.random.seed(31)\n",
    "\n",
    "pandas_dataframe = pd.DataFrame(\n",
    "    {\n",
    "        \"n\": np.random.randn(20),\n",
    "        \"group\": np.random.choice(list(\"xyz\"), 20),\n",
    "        \"abool\": np.random.choice([True, False], 20),\n",
    "    }\n",
    ")\n",
    "\n",
    "df = spark.createDataFrame(pandas_dataframe)\n",
    "df.show(3)"
   ]
  },
  {
   "cell_type": "markdown",
   "id": "28ed80ea",
   "metadata": {},
   "source": [
    "B.) Use .printSchema to view the datatypes in your dataframe."
   ]
  },
  {
   "cell_type": "code",
   "execution_count": 50,
   "id": "f087b62b",
   "metadata": {},
   "outputs": [
    {
     "name": "stdout",
     "output_type": "stream",
     "text": [
      "root\n",
      " |-- n: double (nullable = true)\n",
      " |-- group: string (nullable = true)\n",
      " |-- abool: boolean (nullable = true)\n",
      "\n"
     ]
    }
   ],
   "source": [
    "df.printSchema()"
   ]
  },
  {
   "cell_type": "markdown",
   "id": "6344457a",
   "metadata": {},
   "source": [
    "C.) Use .dtypes to view the datatypes in your dataframe."
   ]
  },
  {
   "cell_type": "code",
   "execution_count": 54,
   "id": "98af00fa",
   "metadata": {},
   "outputs": [
    {
     "data": {
      "text/plain": [
       "[('n', 'double'), ('group', 'string'), ('abool', 'boolean')]"
      ]
     },
     "execution_count": 54,
     "metadata": {},
     "output_type": "execute_result"
    }
   ],
   "source": [
    "df.dtypes"
   ]
  },
  {
   "cell_type": "markdown",
   "id": "2091edf6",
   "metadata": {},
   "source": [
    "D.) What is the difference between the two code samples below?\n",
    "\n",
    "        df.abool.cast('int')\n",
    "        df.select(df.abool.cast('int')).show()"
   ]
  },
  {
   "cell_type": "code",
   "execution_count": 62,
   "id": "3edbed75",
   "metadata": {},
   "outputs": [
    {
     "data": {
      "text/plain": [
       "Column<'CAST(abool AS INT)'>"
      ]
     },
     "execution_count": 62,
     "metadata": {},
     "output_type": "execute_result"
    }
   ],
   "source": [
    "df.abool.cast('int')\n",
    "\n",
    "# Converts bools to 0 or 1"
   ]
  },
  {
   "cell_type": "code",
   "execution_count": 63,
   "id": "317d314c",
   "metadata": {},
   "outputs": [
    {
     "name": "stdout",
     "output_type": "stream",
     "text": [
      "+-----+\n",
      "|abool|\n",
      "+-----+\n",
      "|    0|\n",
      "|    0|\n",
      "|    1|\n",
      "|    0|\n",
      "|    0|\n",
      "+-----+\n",
      "only showing top 5 rows\n",
      "\n"
     ]
    }
   ],
   "source": [
    "df.select(df.abool.cast('int')).show(5)\n",
    "\n",
    "# Outputs the 0's and 1's as a list"
   ]
  },
  {
   "cell_type": "markdown",
   "id": "bdffc01b",
   "metadata": {},
   "source": [
    "E.) Use .select and .cast to convert the abool column to an integer type. View the results."
   ]
  },
  {
   "cell_type": "code",
   "execution_count": 71,
   "id": "60262e18",
   "metadata": {},
   "outputs": [
    {
     "name": "stdout",
     "output_type": "stream",
     "text": [
      "+-----+-----+\n",
      "|abool|abool|\n",
      "+-----+-----+\n",
      "|false|    0|\n",
      "|false|    0|\n",
      "| true|    1|\n",
      "|false|    0|\n",
      "|false|    0|\n",
      "+-----+-----+\n",
      "only showing top 5 rows\n",
      "\n"
     ]
    }
   ],
   "source": [
    "\n",
    "df.select('abool',df.abool.cast('int')).show(5)"
   ]
  },
  {
   "cell_type": "markdown",
   "id": "144ee925",
   "metadata": {},
   "source": [
    "F.) Convert the group column to a integer data type and view the results. What happens?"
   ]
  },
  {
   "cell_type": "code",
   "execution_count": 77,
   "id": "08cd7a15",
   "metadata": {},
   "outputs": [
    {
     "name": "stdout",
     "output_type": "stream",
     "text": [
      "+-----+\n",
      "|group|\n",
      "+-----+\n",
      "| null|\n",
      "| null|\n",
      "| null|\n",
      "| null|\n",
      "| null|\n",
      "+-----+\n",
      "only showing top 5 rows\n",
      "\n"
     ]
    }
   ],
   "source": [
    "df.select(df.group.cast('int')).show(5)\n",
    "# Nulls because there are no translatable objects"
   ]
  },
  {
   "cell_type": "markdown",
   "id": "23e466df",
   "metadata": {},
   "source": [
    "G.) Convert the n column to a integer data type and view the results. What happens?"
   ]
  },
  {
   "cell_type": "code",
   "execution_count": 78,
   "id": "4fefea7f",
   "metadata": {},
   "outputs": [
    {
     "name": "stdout",
     "output_type": "stream",
     "text": [
      "+---+\n",
      "|  n|\n",
      "+---+\n",
      "|  0|\n",
      "|  0|\n",
      "|  0|\n",
      "|  0|\n",
      "|  0|\n",
      "+---+\n",
      "only showing top 5 rows\n",
      "\n"
     ]
    }
   ],
   "source": [
    "df.select(df.n.cast('int')).show(5)\n",
    "# Nulls because originals were strings"
   ]
  },
  {
   "cell_type": "markdown",
   "id": "2a4fe79e",
   "metadata": {},
   "source": [
    "H.) Convert the abool column to a string data type and view the results. What happens?"
   ]
  },
  {
   "cell_type": "code",
   "execution_count": 80,
   "id": "4378d45e",
   "metadata": {},
   "outputs": [
    {
     "name": "stdout",
     "output_type": "stream",
     "text": [
      "+-----+\n",
      "|abool|\n",
      "+-----+\n",
      "|false|\n",
      "|false|\n",
      "| true|\n",
      "|false|\n",
      "|false|\n",
      "+-----+\n",
      "only showing top 5 rows\n",
      "\n"
     ]
    }
   ],
   "source": [
    "df.select(df.abool.cast('string')).show(5)"
   ]
  },
  {
   "cell_type": "markdown",
   "id": "4b795ef8",
   "metadata": {},
   "source": [
    "### 4.) Built-in Functions"
   ]
  },
  {
   "cell_type": "markdown",
   "id": "8dd43653",
   "metadata": {},
   "source": [
    "A.) Use the starter code above to re-create a spark dataframe.\n"
   ]
  },
  {
   "cell_type": "code",
   "execution_count": null,
   "id": "04903613",
   "metadata": {},
   "outputs": [],
   "source": []
  },
  {
   "cell_type": "markdown",
   "id": "37facaa8",
   "metadata": {},
   "source": [
    "B.) Import the necessary functions from pyspark.sql.functions."
   ]
  },
  {
   "cell_type": "code",
   "execution_count": null,
   "id": "f7f55d62",
   "metadata": {},
   "outputs": [],
   "source": []
  },
  {
   "cell_type": "markdown",
   "id": "f74b35d9",
   "metadata": {},
   "source": [
    "C.) Find the highest n value."
   ]
  },
  {
   "cell_type": "code",
   "execution_count": null,
   "id": "abfd749e",
   "metadata": {},
   "outputs": [],
   "source": []
  },
  {
   "cell_type": "markdown",
   "id": "3489933b",
   "metadata": {},
   "source": [
    "D.) Find the lowest n value."
   ]
  },
  {
   "cell_type": "code",
   "execution_count": null,
   "id": "87fb2075",
   "metadata": {},
   "outputs": [],
   "source": []
  },
  {
   "cell_type": "markdown",
   "id": "9cfa8b45",
   "metadata": {},
   "source": [
    "E.) Find the average n value."
   ]
  },
  {
   "cell_type": "code",
   "execution_count": null,
   "id": "4a8d522a",
   "metadata": {},
   "outputs": [],
   "source": []
  },
  {
   "cell_type": "markdown",
   "id": "942bafa4",
   "metadata": {},
   "source": [
    "F.) Use concat to change the group column to say, e.g. \"Group: x\" or \"Group: y\""
   ]
  },
  {
   "cell_type": "code",
   "execution_count": null,
   "id": "5a53c35d",
   "metadata": {},
   "outputs": [],
   "source": []
  },
  {
   "cell_type": "markdown",
   "id": "a90c0736",
   "metadata": {},
   "source": [
    "G.) Use concat to combine the n and group columns to produce results that look like this: \"x: -1.432\" or \"z: 2.352\""
   ]
  },
  {
   "cell_type": "code",
   "execution_count": null,
   "id": "f0ce123e",
   "metadata": {},
   "outputs": [],
   "source": []
  },
  {
   "cell_type": "markdown",
   "id": "0e6a4ddb",
   "metadata": {},
   "source": [
    "### 5.) When / Otherwise"
   ]
  },
  {
   "cell_type": "markdown",
   "id": "cda49325",
   "metadata": {},
   "source": [
    "A.) Use the starter code above to re-create a spark dataframe."
   ]
  },
  {
   "cell_type": "code",
   "execution_count": null,
   "id": "f06f9ae5",
   "metadata": {},
   "outputs": [],
   "source": []
  },
  {
   "cell_type": "markdown",
   "id": "f5f69d8e",
   "metadata": {},
   "source": [
    "B.) Use when and .otherwise to create a column that contains the text \"It is true\" when abool is true and \"It is false\"\" when abool is false."
   ]
  },
  {
   "cell_type": "code",
   "execution_count": null,
   "id": "850c0e96",
   "metadata": {},
   "outputs": [],
   "source": []
  },
  {
   "cell_type": "markdown",
   "id": "f07969b7",
   "metadata": {},
   "source": [
    "C.) Create a column that contains 0 if n is less than 0, otherwise, the original n value."
   ]
  },
  {
   "cell_type": "code",
   "execution_count": null,
   "id": "e108becd",
   "metadata": {},
   "outputs": [],
   "source": []
  },
  {
   "cell_type": "markdown",
   "id": "d2b496ea",
   "metadata": {},
   "source": [
    "### 6. Filter/Where"
   ]
  },
  {
   "cell_type": "markdown",
   "id": "59250397",
   "metadata": {},
   "source": [
    "A.) Use the starter code above to re-create a spark dataframe."
   ]
  },
  {
   "cell_type": "code",
   "execution_count": null,
   "id": "ef704257",
   "metadata": {},
   "outputs": [],
   "source": []
  },
  {
   "cell_type": "markdown",
   "id": "570ead89",
   "metadata": {},
   "source": [
    "B.) Use .filter or .where to select just the rows where the group is y and view the results."
   ]
  },
  {
   "cell_type": "code",
   "execution_count": null,
   "id": "a9952214",
   "metadata": {},
   "outputs": [],
   "source": []
  },
  {
   "cell_type": "markdown",
   "id": "3ab3ac8f",
   "metadata": {},
   "source": [
    "C.) Select just the columns where the abool column is false and view the results."
   ]
  },
  {
   "cell_type": "code",
   "execution_count": null,
   "id": "0e0dab6e",
   "metadata": {},
   "outputs": [],
   "source": []
  },
  {
   "cell_type": "markdown",
   "id": "9d57c299",
   "metadata": {},
   "source": [
    "D.) Find the columns where the group column is not y."
   ]
  },
  {
   "cell_type": "code",
   "execution_count": null,
   "id": "a26da21e",
   "metadata": {},
   "outputs": [],
   "source": []
  },
  {
   "cell_type": "markdown",
   "id": "595bd9fa",
   "metadata": {},
   "source": [
    "E.) Find the columns where n is positive."
   ]
  },
  {
   "cell_type": "code",
   "execution_count": null,
   "id": "527270a0",
   "metadata": {},
   "outputs": [],
   "source": []
  },
  {
   "cell_type": "markdown",
   "id": "650890f2",
   "metadata": {},
   "source": [
    "F.) Find the columns where abool is true and the group column is z."
   ]
  },
  {
   "cell_type": "code",
   "execution_count": null,
   "id": "03500215",
   "metadata": {},
   "outputs": [],
   "source": []
  },
  {
   "cell_type": "markdown",
   "id": "28866f78",
   "metadata": {},
   "source": [
    "G.) Find the columns where abool is true or the group column is z."
   ]
  },
  {
   "cell_type": "code",
   "execution_count": null,
   "id": "c1056af2",
   "metadata": {},
   "outputs": [],
   "source": []
  },
  {
   "cell_type": "markdown",
   "id": "15690949",
   "metadata": {},
   "source": [
    "H.) Find the columns where abool is false and n is less than 1."
   ]
  },
  {
   "cell_type": "code",
   "execution_count": null,
   "id": "2fa4a5a8",
   "metadata": {},
   "outputs": [],
   "source": []
  },
  {
   "cell_type": "markdown",
   "id": "7d709fba",
   "metadata": {},
   "source": [
    "I.) Find the columns where abool is false or n is less than 1"
   ]
  },
  {
   "cell_type": "code",
   "execution_count": null,
   "id": "a0fd03b8",
   "metadata": {},
   "outputs": [],
   "source": []
  },
  {
   "cell_type": "markdown",
   "id": "39eef50f",
   "metadata": {},
   "source": [
    "### 7. Sorting"
   ]
  },
  {
   "cell_type": "markdown",
   "id": "5df04cfa",
   "metadata": {},
   "source": [
    "A.) Use the starter code above to re-create a spark dataframe."
   ]
  },
  {
   "cell_type": "code",
   "execution_count": null,
   "id": "9a5bbf56",
   "metadata": {},
   "outputs": [],
   "source": []
  },
  {
   "cell_type": "markdown",
   "id": "69e4e08c",
   "metadata": {},
   "source": [
    "B.) Sort by the n value."
   ]
  },
  {
   "cell_type": "code",
   "execution_count": null,
   "id": "f685c658",
   "metadata": {},
   "outputs": [],
   "source": []
  },
  {
   "cell_type": "markdown",
   "id": "6baf2afe",
   "metadata": {},
   "source": [
    "C.) Sort by the group value, both ascending and descending."
   ]
  },
  {
   "cell_type": "code",
   "execution_count": null,
   "id": "3349a1fe",
   "metadata": {},
   "outputs": [],
   "source": []
  },
  {
   "cell_type": "markdown",
   "id": "c2d2e766",
   "metadata": {},
   "source": [
    "D.) Sort by the group value first, then, within each group, sort by n value."
   ]
  },
  {
   "cell_type": "code",
   "execution_count": null,
   "id": "90a29265",
   "metadata": {},
   "outputs": [],
   "source": []
  },
  {
   "cell_type": "markdown",
   "id": "a0817948",
   "metadata": {},
   "source": [
    "E.) Sort by abool, group, and n. Does it matter in what order you specify the columns when sorting?"
   ]
  },
  {
   "cell_type": "code",
   "execution_count": null,
   "id": "4716fafa",
   "metadata": {},
   "outputs": [],
   "source": []
  },
  {
   "cell_type": "markdown",
   "id": "68f0f736",
   "metadata": {},
   "source": [
    "### 8. Agregating"
   ]
  },
  {
   "cell_type": "markdown",
   "id": "21eef203",
   "metadata": {},
   "source": [
    "A.) What is the average n value for each group in the group column?"
   ]
  },
  {
   "cell_type": "code",
   "execution_count": null,
   "id": "8cf5454f",
   "metadata": {},
   "outputs": [],
   "source": []
  },
  {
   "cell_type": "markdown",
   "id": "a72bb9a2",
   "metadata": {},
   "source": [
    "B.) What is the maximum n value for each group in the group column?"
   ]
  },
  {
   "cell_type": "code",
   "execution_count": null,
   "id": "6f8e669b",
   "metadata": {},
   "outputs": [],
   "source": []
  },
  {
   "cell_type": "code",
   "execution_count": 83,
   "id": "f6ea6599",
   "metadata": {},
   "outputs": [
    {
     "name": "stdout",
     "output_type": "stream",
     "text": [
      "Object `abool` not found.\n"
     ]
    }
   ],
   "source": [
    "C.) What is the minimum n value by abool?"
   ]
  },
  {
   "cell_type": "code",
   "execution_count": null,
   "id": "cb7dbb1b",
   "metadata": {},
   "outputs": [],
   "source": [
    "C.) What is the minimum n value by abool"
   ]
  },
  {
   "cell_type": "code",
   "execution_count": null,
   "id": "f133ac08",
   "metadata": {},
   "outputs": [],
   "source": []
  },
  {
   "cell_type": "markdown",
   "id": "3f48ead3",
   "metadata": {},
   "source": [
    "D.) What is the average n value for each unique combination of the group and abool column?"
   ]
  },
  {
   "cell_type": "code",
   "execution_count": null,
   "id": "e9ee2bd8",
   "metadata": {},
   "outputs": [],
   "source": []
  },
  {
   "cell_type": "markdown",
   "id": "8c0f0c97",
   "metadata": {},
   "source": [
    "### 9. Spark SQL"
   ]
  },
  {
   "cell_type": "markdown",
   "id": "81ca2499",
   "metadata": {},
   "source": [
    "A.) Use the starter code above to re-create a spark dataframe.\n"
   ]
  },
  {
   "cell_type": "code",
   "execution_count": null,
   "id": "6ddde307",
   "metadata": {},
   "outputs": [],
   "source": []
  },
  {
   "cell_type": "markdown",
   "id": "7b5efd0a",
   "metadata": {},
   "source": [
    "B.) Turn your dataframe into a table that can be queried with spark SQL. Name the table my_df. Answer the rest of the questions in this section with a spark sql query (spark.sql) against my_df. After each step, view the first 7 records from the dataframe."
   ]
  },
  {
   "cell_type": "code",
   "execution_count": null,
   "id": "b93aa354",
   "metadata": {},
   "outputs": [],
   "source": []
  },
  {
   "cell_type": "markdown",
   "id": "877dedce",
   "metadata": {},
   "source": [
    "C.) What happens if you make a SQL syntax error in your query?"
   ]
  },
  {
   "cell_type": "code",
   "execution_count": null,
   "id": "2e545e11",
   "metadata": {},
   "outputs": [],
   "source": []
  },
  {
   "cell_type": "markdown",
   "id": "58b57943",
   "metadata": {},
   "source": [
    "D.) Write a query that shows all of the columns from your dataframe.\n"
   ]
  },
  {
   "cell_type": "code",
   "execution_count": null,
   "id": "5f9837f5",
   "metadata": {},
   "outputs": [],
   "source": []
  },
  {
   "cell_type": "markdown",
   "id": "912bd98c",
   "metadata": {},
   "source": [
    "E.) Write a query that shows just the n and abool columns from the dataframe.\n"
   ]
  },
  {
   "cell_type": "code",
   "execution_count": null,
   "id": "b3a644ce",
   "metadata": {},
   "outputs": [],
   "source": []
  },
  {
   "cell_type": "code",
   "execution_count": null,
   "id": "3a1cb3ee",
   "metadata": {},
   "outputs": [],
   "source": []
  }
 ],
 "metadata": {
  "kernelspec": {
   "display_name": "Python 3 (ipykernel)",
   "language": "python",
   "name": "python3"
  },
  "language_info": {
   "codemirror_mode": {
    "name": "ipython",
    "version": 3
   },
   "file_extension": ".py",
   "mimetype": "text/x-python",
   "name": "python",
   "nbconvert_exporter": "python",
   "pygments_lexer": "ipython3",
   "version": "3.9.7"
  }
 },
 "nbformat": 4,
 "nbformat_minor": 5
}
