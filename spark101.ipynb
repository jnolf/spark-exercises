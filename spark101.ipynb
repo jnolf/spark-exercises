{
 "cells": [
  {
   "cell_type": "code",
   "execution_count": 1,
   "id": "ba885bd1",
   "metadata": {},
   "outputs": [
    {
     "name": "stderr",
     "output_type": "stream",
     "text": [
      "WARNING: An illegal reflective access operation has occurred\n",
      "WARNING: Illegal reflective access by org.apache.spark.unsafe.Platform (file:/Users/jerrynolf/opt/anaconda3/lib/python3.9/site-packages/pyspark/jars/spark-unsafe_2.12-3.2.1.jar) to constructor java.nio.DirectByteBuffer(long,int)\n",
      "WARNING: Please consider reporting this to the maintainers of org.apache.spark.unsafe.Platform\n",
      "WARNING: Use --illegal-access=warn to enable warnings of further illegal reflective access operations\n",
      "WARNING: All illegal access operations will be denied in a future release\n",
      "Using Spark's default log4j profile: org/apache/spark/log4j-defaults.properties\n",
      "Setting default log level to \"WARN\".\n",
      "To adjust logging level use sc.setLogLevel(newLevel). For SparkR, use setLogLevel(newLevel).\n",
      "22/05/19 15:38:37 WARN NativeCodeLoader: Unable to load native-hadoop library for your platform... using builtin-java classes where applicable\n",
      "22/05/19 15:38:38 WARN Utils: Service 'SparkUI' could not bind on port 4040. Attempting port 4041.\n"
     ]
    }
   ],
   "source": [
    "import pandas as pd\n",
    "import numpy as np\n",
    "import pyspark\n",
    "from pyspark.sql import functions as f\n",
    "\n",
    "from pydataset import data\n",
    "\n",
    "import pyspark\n",
    "\n",
    "spark = pyspark.sql.SparkSession.builder.getOrCreate()\n",
    "\n",
    "import warnings\n",
    "warnings.filterwarnings('ignore')"
   ]
  },
  {
   "cell_type": "markdown",
   "id": "b2b35474",
   "metadata": {},
   "source": [
    "#### 1.) Create a spark data frame that contains your favorite programming languages.\n",
    "\n",
    " - The name of the column should be language\n",
    " - View the schema of the dataframe\n",
    " - Output the shape of the dataframe\n",
    " - Show the first 5 records in the dataframe"
   ]
  },
  {
   "cell_type": "code",
   "execution_count": 2,
   "id": "6fa84c00",
   "metadata": {},
   "outputs": [],
   "source": [
    "df = pd.DataFrame()\n",
    "df['language'] = ['Python', 'SQL', 'R', 'C++', 'Java', 'C#']\n",
    "df = spark.createDataFrame(df)"
   ]
  },
  {
   "cell_type": "code",
   "execution_count": 3,
   "id": "6d6e11fa",
   "metadata": {},
   "outputs": [
    {
     "name": "stderr",
     "output_type": "stream",
     "text": [
      "                                                                                \r"
     ]
    },
    {
     "name": "stdout",
     "output_type": "stream",
     "text": [
      "+--------+\n",
      "|language|\n",
      "+--------+\n",
      "|  Python|\n",
      "|     SQL|\n",
      "|       R|\n",
      "|     C++|\n",
      "|    Java|\n",
      "|      C#|\n",
      "+--------+\n",
      "\n"
     ]
    }
   ],
   "source": [
    "# The name of the column should be language\n",
    "df.select(df.language).show()"
   ]
  },
  {
   "cell_type": "code",
   "execution_count": 4,
   "id": "0706c152",
   "metadata": {},
   "outputs": [
    {
     "name": "stdout",
     "output_type": "stream",
     "text": [
      "root\n",
      " |-- language: string (nullable = true)\n",
      "\n"
     ]
    }
   ],
   "source": [
    "# View the schema of the dataframe\n",
    "df.printSchema()"
   ]
  },
  {
   "cell_type": "code",
   "execution_count": 5,
   "id": "8b634d9e",
   "metadata": {},
   "outputs": [
    {
     "data": {
      "text/plain": [
       "(6, 1)"
      ]
     },
     "execution_count": 5,
     "metadata": {},
     "output_type": "execute_result"
    }
   ],
   "source": [
    "# Output the shape of the dataframe\n",
    "df.toPandas().shape"
   ]
  },
  {
   "cell_type": "code",
   "execution_count": 6,
   "id": "0a0ef286",
   "metadata": {},
   "outputs": [
    {
     "name": "stdout",
     "output_type": "stream",
     "text": [
      "+--------+\n",
      "|language|\n",
      "+--------+\n",
      "|  Python|\n",
      "|     SQL|\n",
      "|       R|\n",
      "|     C++|\n",
      "|    Java|\n",
      "+--------+\n",
      "only showing top 5 rows\n",
      "\n"
     ]
    }
   ],
   "source": [
    "# Show the first 5 records in the dataframe\n",
    "df.show(5)"
   ]
  },
  {
   "cell_type": "markdown",
   "id": "bc65949e",
   "metadata": {},
   "source": [
    "#### 2.) Load the mpg dataset as a spark dataframe.\n",
    "\n",
    " a.) Create 1 column of output that contains a message like the one below:\n",
    " \n",
    "     - The 1999 audi a4 has a 4 cylinder engine.\n",
    " For each vehicle.\n",
    "\n",
    " b.) Transform the trans column so that it only contains either manual or auto."
   ]
  },
  {
   "cell_type": "code",
   "execution_count": 7,
   "id": "29681f5a",
   "metadata": {},
   "outputs": [
    {
     "name": "stdout",
     "output_type": "stream",
     "text": [
      "+------------+-----+-----+----+---+----------+---+---+---+---+-------+\n",
      "|manufacturer|model|displ|year|cyl|     trans|drv|cty|hwy| fl|  class|\n",
      "+------------+-----+-----+----+---+----------+---+---+---+---+-------+\n",
      "|        audi|   a4|  1.8|1999|  4|  auto(l5)|  f| 18| 29|  p|compact|\n",
      "|        audi|   a4|  1.8|1999|  4|manual(m5)|  f| 21| 29|  p|compact|\n",
      "|        audi|   a4|  2.0|2008|  4|manual(m6)|  f| 20| 31|  p|compact|\n",
      "+------------+-----+-----+----+---+----------+---+---+---+---+-------+\n",
      "only showing top 3 rows\n",
      "\n"
     ]
    }
   ],
   "source": [
    "mpg = spark.createDataFrame(data('mpg'))\n",
    "mpg.show(3)"
   ]
  },
  {
   "cell_type": "code",
   "execution_count": 8,
   "id": "873549dc",
   "metadata": {},
   "outputs": [
    {
     "name": "stdout",
     "output_type": "stream",
     "text": [
      "+----------------------------------------------------------------+\n",
      "|Model Explanation                                               |\n",
      "+----------------------------------------------------------------+\n",
      "|The 1999 audi a4 has a(n) 4 cyliner engine.                     |\n",
      "|The 1999 audi a4 has a(n) 4 cyliner engine.                     |\n",
      "|The 2008 audi a4 has a(n) 4 cyliner engine.                     |\n",
      "|The 2008 audi a4 has a(n) 4 cyliner engine.                     |\n",
      "|The 1999 audi a4 has a(n) 6 cyliner engine.                     |\n",
      "|The 1999 audi a4 has a(n) 6 cyliner engine.                     |\n",
      "|The 2008 audi a4 has a(n) 6 cyliner engine.                     |\n",
      "|The 1999 audi a4 quattro has a(n) 4 cyliner engine.             |\n",
      "|The 1999 audi a4 quattro has a(n) 4 cyliner engine.             |\n",
      "|The 2008 audi a4 quattro has a(n) 4 cyliner engine.             |\n",
      "|The 2008 audi a4 quattro has a(n) 4 cyliner engine.             |\n",
      "|The 1999 audi a4 quattro has a(n) 6 cyliner engine.             |\n",
      "|The 1999 audi a4 quattro has a(n) 6 cyliner engine.             |\n",
      "|The 2008 audi a4 quattro has a(n) 6 cyliner engine.             |\n",
      "|The 2008 audi a4 quattro has a(n) 6 cyliner engine.             |\n",
      "|The 1999 audi a6 quattro has a(n) 6 cyliner engine.             |\n",
      "|The 2008 audi a6 quattro has a(n) 6 cyliner engine.             |\n",
      "|The 2008 audi a6 quattro has a(n) 8 cyliner engine.             |\n",
      "|The 2008 chevrolet c1500 suburban 2wd has a(n) 8 cyliner engine.|\n",
      "|The 2008 chevrolet c1500 suburban 2wd has a(n) 8 cyliner engine.|\n",
      "+----------------------------------------------------------------+\n",
      "only showing top 20 rows\n",
      "\n"
     ]
    }
   ],
   "source": [
    "# Create the column with messages\n",
    "mpg.select(\n",
    "    f.concat(\n",
    "        f.lit('The '),\n",
    "        mpg.year,\n",
    "        f.lit(' '),\n",
    "        mpg.manufacturer,\n",
    "        f.lit(' '),\n",
    "        mpg.model,\n",
    "        f.lit(' has a(n) '),\n",
    "        mpg.cyl,\n",
    "        f.lit(' cyliner engine.')\n",
    "        ).alias('Model Explanation')\n",
    ").show(20, False)"
   ]
  },
  {
   "cell_type": "code",
   "execution_count": 9,
   "id": "e2d794b0",
   "metadata": {},
   "outputs": [
    {
     "name": "stdout",
     "output_type": "stream",
     "text": [
      "+----------+--------------+\n",
      "|     trans|manual_or_auto|\n",
      "+----------+--------------+\n",
      "|  auto(l5)|          auto|\n",
      "|manual(m5)|        manual|\n",
      "|manual(m6)|        manual|\n",
      "|  auto(av)|          auto|\n",
      "|  auto(l5)|          auto|\n",
      "|manual(m5)|        manual|\n",
      "|  auto(av)|          auto|\n",
      "|manual(m5)|        manual|\n",
      "|  auto(l5)|          auto|\n",
      "|manual(m6)|        manual|\n",
      "|  auto(s6)|          auto|\n",
      "|  auto(l5)|          auto|\n",
      "|manual(m5)|        manual|\n",
      "|  auto(s6)|          auto|\n",
      "|manual(m6)|        manual|\n",
      "|  auto(l5)|          auto|\n",
      "|  auto(s6)|          auto|\n",
      "|  auto(s6)|          auto|\n",
      "|  auto(l4)|          auto|\n",
      "|  auto(l4)|          auto|\n",
      "+----------+--------------+\n",
      "only showing top 20 rows\n",
      "\n"
     ]
    }
   ],
   "source": [
    "# Transform the trans column so that it only contains either manual or auto.\n",
    "mpg.select(\n",
    "    mpg.trans,\n",
    "    f.regexp_extract('trans', r'\\w+',0).alias(\"manual_or_auto\")\n",
    ").show()"
   ]
  },
  {
   "cell_type": "markdown",
   "id": "11d20c69",
   "metadata": {},
   "source": [
    "#### 3.) Load the tips dataset as a spark dataframe.\n",
    "\n",
    " - What percentage of observations are smokers?\n",
    " - Create a column that contains the tip percentage\n",
    " - Calculate the average tip percentage for each combination of sex and smoker."
   ]
  },
  {
   "cell_type": "code",
   "execution_count": 10,
   "id": "c1902f40",
   "metadata": {},
   "outputs": [],
   "source": [
    "tips = spark.createDataFrame(data('tips'))"
   ]
  },
  {
   "cell_type": "code",
   "execution_count": 11,
   "id": "c2cd07ed",
   "metadata": {},
   "outputs": [
    {
     "name": "stdout",
     "output_type": "stream",
     "text": [
      "+-------------------+\n",
      "|    Percent_smokers|\n",
      "+-------------------+\n",
      "|0.38114754098360654|\n",
      "+-------------------+\n",
      "\n"
     ]
    }
   ],
   "source": [
    "# What percentage of observations are smokers?\n",
    "tips.agg(f.mean(f.when(tips.smoker == 'Yes',1)\n",
    "                .otherwise(0))\n",
    "         .alias(\"Percent_smokers\")\n",
    "        ).show()\n"
   ]
  },
  {
   "cell_type": "code",
   "execution_count": 12,
   "id": "0661b3f5",
   "metadata": {},
   "outputs": [
    {
     "name": "stdout",
     "output_type": "stream",
     "text": [
      "+----+----------+--------------+\n",
      "| tip|total_bill|tip_percentage|\n",
      "+----+----------+--------------+\n",
      "|1.01|     16.99|          0.06|\n",
      "|1.66|     10.34|          0.16|\n",
      "| 3.5|     21.01|          0.17|\n",
      "|3.31|     23.68|          0.14|\n",
      "|3.61|     24.59|          0.15|\n",
      "|4.71|     25.29|          0.19|\n",
      "| 2.0|      8.77|          0.23|\n",
      "|3.12|     26.88|          0.12|\n",
      "|1.96|     15.04|          0.13|\n",
      "|3.23|     14.78|          0.22|\n",
      "|1.71|     10.27|          0.17|\n",
      "| 5.0|     35.26|          0.14|\n",
      "|1.57|     15.42|           0.1|\n",
      "| 3.0|     18.43|          0.16|\n",
      "|3.02|     14.83|           0.2|\n",
      "|3.92|     21.58|          0.18|\n",
      "|1.67|     10.33|          0.16|\n",
      "|3.71|     16.29|          0.23|\n",
      "| 3.5|     16.97|          0.21|\n",
      "|3.35|     20.65|          0.16|\n",
      "+----+----------+--------------+\n",
      "only showing top 20 rows\n",
      "\n"
     ]
    }
   ],
   "source": [
    "# Create a column that contains the tip percentage\n",
    "tips.select(\n",
    "    tips.tip,\n",
    "    tips.total_bill,\n",
    "    f.round(\n",
    "        (tips.tip / tips.total_bill)\n",
    "        ,2)\n",
    "    .alias('tip_percentage')\n",
    ").show()"
   ]
  },
  {
   "cell_type": "code",
   "execution_count": 13,
   "id": "bdf971ed",
   "metadata": {},
   "outputs": [
    {
     "name": "stderr",
     "output_type": "stream",
     "text": [
      "\r",
      "[Stage 14:>                                                       (0 + 10) / 10]\r"
     ]
    },
    {
     "name": "stdout",
     "output_type": "stream",
     "text": [
      "+------+------+-----------------------+\n",
      "|   sex|smoker|avg((tip / total_bill))|\n",
      "+------+------+-----------------------+\n",
      "|  Male|    No|     0.1606687151291298|\n",
      "|Female|    No|    0.15692097076918363|\n",
      "|  Male|   Yes|     0.1527711752024851|\n",
      "+------+------+-----------------------+\n",
      "only showing top 3 rows\n",
      "\n"
     ]
    },
    {
     "name": "stderr",
     "output_type": "stream",
     "text": [
      "\r",
      "                                                                                \r"
     ]
    }
   ],
   "source": [
    "# Calculate the average tip percentage for each combination of sex and smoker.\n",
    "tips.groupBy(tips.sex, tips.smoker).agg(\n",
    "    f.avg(tips.tip / tips.total_bill)\n",
    ").show(3)"
   ]
  },
  {
   "cell_type": "markdown",
   "id": "6227b8cc",
   "metadata": {},
   "source": [
    "#### 4.) Use the seattle weather dataset referenced in the lesson to answer the questions below.\n",
    "\n",
    " - Convert the temperatures to fahrenheit.\n",
    " - Which month has the most rain, on average?\n",
    " - Which year was the windiest?\n",
    " - What is the most frequent type of weather in January?\n",
    " - What is the average high and low temperature on sunny days in July in 2013 and 2014?\n",
    " - What percentage of days were rainy in q3 of 2015?\n",
    " - For each year, find what percentage of days it rained (had non-zero precipitation).\n"
   ]
  },
  {
   "cell_type": "code",
   "execution_count": 16,
   "id": "637aeb60",
   "metadata": {},
   "outputs": [],
   "source": [
    "from vega_datasets import data as vega_data\n",
    "weather = spark.createDataFrame(vega_data('seattle_weather'))"
   ]
  },
  {
   "cell_type": "code",
   "execution_count": 18,
   "id": "7070aa09",
   "metadata": {},
   "outputs": [],
   "source": [
    "# Convert the temperatures to fahrenheit.\n",
    "weather = weather.withColumn(\n",
    "    \"temp_max\", (f.col(\"temp_max\") * 9 / 5 + 32)\n",
    ").withColumn(\"temp_min\", (f.col(\"temp_min\") * 9 / 5 + 32))"
   ]
  },
  {
   "cell_type": "code",
   "execution_count": 19,
   "id": "dba4d9cb",
   "metadata": {},
   "outputs": [
    {
     "name": "stdout",
     "output_type": "stream",
     "text": [
      "+-----+--------------------------+\n",
      "|month|Average_rainfall_per_month|\n",
      "+-----+--------------------------+\n",
      "|    1|                      3.76|\n",
      "|    2|                      3.73|\n",
      "|    3|                      4.89|\n",
      "|    4|                      3.13|\n",
      "|    5|                      1.67|\n",
      "|    6|                      1.11|\n",
      "|    7|                      0.39|\n",
      "|    8|                      1.32|\n",
      "|    9|                      1.96|\n",
      "|   10|                      4.06|\n",
      "|   11|                      5.35|\n",
      "|   12|                      5.02|\n",
      "+-----+--------------------------+\n",
      "\n"
     ]
    }
   ],
   "source": [
    "# Which month has the most rain, on average?\n",
    "weather.withColumn(\"month\",f.month(\"date\")\n",
    "             ).groupBy(\"month\").agg(\n",
    "                                f.round(\n",
    "                                    f.avg(\"precipitation\"),2\n",
    "                                        ).alias(\"Average_rainfall_per_month\")\n",
    "                                    ).sort('month').show()"
   ]
  },
  {
   "cell_type": "code",
   "execution_count": 20,
   "id": "da47d3b4",
   "metadata": {},
   "outputs": [
    {
     "name": "stdout",
     "output_type": "stream",
     "text": [
      "+----+----------+\n",
      "|year|Total_wind|\n",
      "+----+----------+\n",
      "|2012|    1244.7|\n",
      "|2013|    1100.8|\n",
      "|2014|    1236.5|\n",
      "|2015|    1153.3|\n",
      "+----+----------+\n",
      "\n"
     ]
    }
   ],
   "source": [
    "# Which year was the windiest?\n",
    "weather.withColumn('year',f.year('date')).groupBy('year')\\\n",
    "                .agg(f.round(f.sum('wind'),2)\\\n",
    "                .alias('Total_wind'))\\\n",
    "                .sort(f.asc('year')).show()\n",
    "                                              "
   ]
  },
  {
   "cell_type": "code",
   "execution_count": 22,
   "id": "c0594852",
   "metadata": {},
   "outputs": [
    {
     "name": "stdout",
     "output_type": "stream",
     "text": [
      "+-----+-------+-----+\n",
      "|month|weather|count|\n",
      "+-----+-------+-----+\n",
      "|    1|    fog|   38|\n",
      "+-----+-------+-----+\n",
      "only showing top 1 row\n",
      "\n"
     ]
    }
   ],
   "source": [
    "# What is the most frequent type of weather in January?\n",
    "weather.withColumn('month',f.month('date')\n",
    "              ).groupby('month','weather').agg(f.count('weather').alias('count')\n",
    ").sort(f.asc('month'),f.desc('count')).show(1)"
   ]
  },
  {
   "cell_type": "code",
   "execution_count": 26,
   "id": "959f6c58",
   "metadata": {},
   "outputs": [
    {
     "name": "stdout",
     "output_type": "stream",
     "text": [
      "+-----------------+-----------------+\n",
      "|average_high_temp| average_low_temp|\n",
      "+-----------------+-----------------+\n",
      "|80.29192307692308|57.52884615384615|\n",
      "+-----------------+-----------------+\n",
      "\n"
     ]
    }
   ],
   "source": [
    "# What is the average high and low temperature on sunny days in July in 2013 and 2014?\n",
    "(\n",
    "    weather.filter(f.month(\"date\") == 7)\n",
    "    .filter(f.year(\"date\") > 2012)\n",
    "    .filter(f.year(\"date\") < 2015)\n",
    "    .filter(f.col(\"weather\") == f.lit(\"sun\"))\n",
    "    .agg(\n",
    "        f.avg(\"temp_max\").alias(\"average_high_temp\"),\n",
    "        f.avg(\"temp_min\").alias(\"average_low_temp\"),\n",
    "    )\n",
    "    .show()\n",
    ")"
   ]
  },
  {
   "cell_type": "code",
   "execution_count": 34,
   "id": "69cf6d68",
   "metadata": {},
   "outputs": [
    {
     "name": "stdout",
     "output_type": "stream",
     "text": [
      "+--------------------+\n",
      "|           avg(rain)|\n",
      "+--------------------+\n",
      "|0.021739130434782608|\n",
      "+--------------------+\n",
      "\n"
     ]
    }
   ],
   "source": [
    "# What percentage of days were rainy in q3 of 2015?\n",
    "(\n",
    "    weather.filter(f.year(\"date\") == 2015)\n",
    "    .filter(f.quarter(\"date\") == 3)\n",
    "    .select(f.when(f.col(\"weather\") == \"rain\", 1).otherwise(0).alias(\"rain\"))\n",
    "    .agg(f.mean(\"rain\"))\n",
    "    .show()\n",
    ")"
   ]
  },
  {
   "cell_type": "code",
   "execution_count": 36,
   "id": "93271f92",
   "metadata": {},
   "outputs": [
    {
     "name": "stdout",
     "output_type": "stream",
     "text": [
      "+----------+-------------------+\n",
      "|year(date)|      avg(non_zero)|\n",
      "+----------+-------------------+\n",
      "|      2012|0.48360655737704916|\n",
      "|      2013|0.41643835616438357|\n",
      "|      2014|  0.410958904109589|\n",
      "|      2015|0.39452054794520547|\n",
      "+----------+-------------------+\n",
      "\n"
     ]
    }
   ],
   "source": [
    "# For each year, find what percentage of days it rained (had non-zero precipitation).\n",
    "(weather.withColumn('non_zero',\n",
    "             (weather.precipitation > 0).cast('int'))\n",
    " .groupby(f.year('date'))\n",
    " .agg(f.avg('non_zero'))\n",
    ").show()"
   ]
  },
  {
   "cell_type": "code",
   "execution_count": null,
   "id": "8b36efe1",
   "metadata": {},
   "outputs": [],
   "source": []
  }
 ],
 "metadata": {
  "kernelspec": {
   "display_name": "Python 3 (ipykernel)",
   "language": "python",
   "name": "python3"
  },
  "language_info": {
   "codemirror_mode": {
    "name": "ipython",
    "version": 3
   },
   "file_extension": ".py",
   "mimetype": "text/x-python",
   "name": "python",
   "nbconvert_exporter": "python",
   "pygments_lexer": "ipython3",
   "version": "3.9.7"
  }
 },
 "nbformat": 4,
 "nbformat_minor": 5
}
